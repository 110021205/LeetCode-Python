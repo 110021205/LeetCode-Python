{
  "nbformat": 4,
  "nbformat_minor": 0,
  "metadata": {
    "colab": {
      "provenance": []
    },
    "kernelspec": {
      "name": "python3",
      "display_name": "Python 3"
    },
    "language_info": {
      "name": "python"
    }
  },
  "cells": [
    {
      "cell_type": "markdown",
      "source": [
        "LeetCode 第一題 兩數之和"
      ],
      "metadata": {
        "id": "EhuL-tSMwt0K"
      }
    },
    {
      "cell_type": "markdown",
      "source": [
        "解法一_(n*2)版本"
      ],
      "metadata": {
        "id": "Y-UqsPWrw26g"
      }
    },
    {
      "cell_type": "code",
      "execution_count": 10,
      "metadata": {
        "colab": {
          "base_uri": "https://localhost:8080/"
        },
        "id": "SMi5ORrcvj0M",
        "outputId": "678cb6b4-5c39-4a58-b54d-befd152048fb"
      },
      "outputs": [
        {
          "output_type": "stream",
          "name": "stdout",
          "text": [
            "[0, 1]\n"
          ]
        }
      ],
      "source": [
        "nums = [2,7,11,15]\n",
        "target = 9\n",
        "for i in range(len(nums)-1):\n",
        "  for j in range(i+1, len(nums)):\n",
        "      if i == j:\n",
        "        continue\n",
        "      if nums[i] + nums[j] == target:\n",
        "        print([i, j])"
      ]
    },
    {
      "cell_type": "markdown",
      "source": [
        "解法二_(n)版本"
      ],
      "metadata": {
        "id": "vDIW9KEfyUIb"
      }
    },
    {
      "cell_type": "code",
      "source": [
        "nums = [2,7,11,15]\n",
        "target = 9\n",
        "\n",
        "complement ={}\n",
        "\n",
        "for i, num in enumerate(nums): # a dictionary\n",
        "    complement[num]=i\n",
        "for i, num in enumerate(nums):\n",
        "  num2 = target-num\n",
        "  if num2 in complement:\n",
        "    j = complement[num2]\n",
        "    if j != i:\n",
        "      print([i, j])"
      ],
      "metadata": {
        "colab": {
          "base_uri": "https://localhost:8080/"
        },
        "id": "2XrUTdtHyX5p",
        "outputId": "ea606c08-22b2-407f-8254-20f99e4683f1"
      },
      "execution_count": 12,
      "outputs": [
        {
          "output_type": "stream",
          "name": "stdout",
          "text": [
            "[0, 1]\n",
            "[1, 0]\n"
          ]
        }
      ]
    }
  ]
}