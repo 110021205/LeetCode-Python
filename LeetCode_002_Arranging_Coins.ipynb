{
  "nbformat": 4,
  "nbformat_minor": 0,
  "metadata": {
    "colab": {
      "provenance": []
    },
    "kernelspec": {
      "name": "python3",
      "display_name": "Python 3"
    },
    "language_info": {
      "name": "python"
    }
  },
  "cells": [
    {
      "cell_type": "markdown",
      "source": [
        "LeetCode 第441題 排列硬幣"
      ],
      "metadata": {
        "id": "FLSmqTdF2tJh"
      }
    },
    {
      "cell_type": "code",
      "execution_count": 9,
      "metadata": {
        "colab": {
          "base_uri": "https://localhost:8080/"
        },
        "id": "9uki9TsNys5r",
        "outputId": "59b0336e-5fa9-4ed5-edf7-76146ed83cac"
      },
      "outputs": [
        {
          "output_type": "stream",
          "name": "stdout",
          "text": [
            "3\n"
          ]
        }
      ],
      "source": [
        "x = 1\n",
        "r = 0\n",
        "n = 8\n",
        "\n",
        "while n >= x :\n",
        "  n = n-x\n",
        "  r = r+1\n",
        "  x = x+1\n",
        "\n",
        "print(r)"
      ]
    }
  ]
}